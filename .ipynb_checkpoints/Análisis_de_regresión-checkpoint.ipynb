{
 "cells": [
  {
   "cell_type": "markdown",
   "metadata": {},
   "source": [
    "# Análisis de Regresión"
   ]
  },
  {
   "cell_type": "markdown",
   "metadata": {},
   "source": [
    "**Actividad:**\n",
    "\n",
    "- Realizar un análisis de regresión para predecir el precio de las casas usando el conjunto de datos \"Boston Housing Data Set\".\n"
   ]
  },
  {
   "cell_type": "markdown",
   "metadata": {},
   "source": [
    "## Cargar los datos"
   ]
  },
  {
   "cell_type": "code",
   "execution_count": 1,
   "metadata": {
    "tags": []
   },
   "outputs": [],
   "source": [
    "# Importar las librerías necesarias\n",
    "from sklearn.linear_model import LinearRegression, Lasso, Ridge\n",
    "from sklearn.model_selection import train_test_split\n",
    "from sklearn.datasets import load_boston\n",
    "import numpy as np\n",
    "import pandas as pd\n",
    "from sklearn.metrics import mean_squared_error\n",
    "from matplotlib import pyplot as plt\n",
    "from math import sqrt\n",
    "%matplotlib inline"
   ]
  },
  {
   "cell_type": "code",
   "execution_count": 2,
   "metadata": {},
   "outputs": [
    {
     "data": {
      "text/html": [
       "<div>\n",
       "<style scoped>\n",
       "    .dataframe tbody tr th:only-of-type {\n",
       "        vertical-align: middle;\n",
       "    }\n",
       "\n",
       "    .dataframe tbody tr th {\n",
       "        vertical-align: top;\n",
       "    }\n",
       "\n",
       "    .dataframe thead th {\n",
       "        text-align: right;\n",
       "    }\n",
       "</style>\n",
       "<table border=\"1\" class=\"dataframe\">\n",
       "  <thead>\n",
       "    <tr style=\"text-align: right;\">\n",
       "      <th></th>\n",
       "      <th>CRIM</th>\n",
       "      <th>ZN</th>\n",
       "      <th>INDUS</th>\n",
       "      <th>CHAS</th>\n",
       "      <th>NOX</th>\n",
       "      <th>RM</th>\n",
       "      <th>AGE</th>\n",
       "      <th>DIS</th>\n",
       "      <th>RAD</th>\n",
       "      <th>TAX</th>\n",
       "      <th>PTRATIO</th>\n",
       "      <th>LSTAT</th>\n",
       "      <th>target</th>\n",
       "    </tr>\n",
       "  </thead>\n",
       "  <tbody>\n",
       "    <tr>\n",
       "      <th>0</th>\n",
       "      <td>632</td>\n",
       "      <td>180</td>\n",
       "      <td>231</td>\n",
       "      <td>0</td>\n",
       "      <td>538</td>\n",
       "      <td>6575</td>\n",
       "      <td>652</td>\n",
       "      <td>409</td>\n",
       "      <td>10</td>\n",
       "      <td>2960</td>\n",
       "      <td>153</td>\n",
       "      <td>498</td>\n",
       "      <td>240</td>\n",
       "    </tr>\n",
       "    <tr>\n",
       "      <th>1</th>\n",
       "      <td>2731</td>\n",
       "      <td>0</td>\n",
       "      <td>707</td>\n",
       "      <td>0</td>\n",
       "      <td>469</td>\n",
       "      <td>6421</td>\n",
       "      <td>789</td>\n",
       "      <td>49671</td>\n",
       "      <td>20</td>\n",
       "      <td>2420</td>\n",
       "      <td>178</td>\n",
       "      <td>914</td>\n",
       "      <td>216</td>\n",
       "    </tr>\n",
       "    <tr>\n",
       "      <th>2</th>\n",
       "      <td>2729</td>\n",
       "      <td>0</td>\n",
       "      <td>707</td>\n",
       "      <td>0</td>\n",
       "      <td>469</td>\n",
       "      <td>7185</td>\n",
       "      <td>611</td>\n",
       "      <td>49671</td>\n",
       "      <td>20</td>\n",
       "      <td>2420</td>\n",
       "      <td>178</td>\n",
       "      <td>403</td>\n",
       "      <td>347</td>\n",
       "    </tr>\n",
       "    <tr>\n",
       "      <th>3</th>\n",
       "      <td>3237</td>\n",
       "      <td>0</td>\n",
       "      <td>218</td>\n",
       "      <td>0</td>\n",
       "      <td>458</td>\n",
       "      <td>6998</td>\n",
       "      <td>458</td>\n",
       "      <td>60622</td>\n",
       "      <td>30</td>\n",
       "      <td>2220</td>\n",
       "      <td>187</td>\n",
       "      <td>294</td>\n",
       "      <td>334</td>\n",
       "    </tr>\n",
       "    <tr>\n",
       "      <th>4</th>\n",
       "      <td>6905</td>\n",
       "      <td>0</td>\n",
       "      <td>218</td>\n",
       "      <td>0</td>\n",
       "      <td>458</td>\n",
       "      <td>7147</td>\n",
       "      <td>542</td>\n",
       "      <td>60622</td>\n",
       "      <td>30</td>\n",
       "      <td>2220</td>\n",
       "      <td>187</td>\n",
       "      <td>533</td>\n",
       "      <td>362</td>\n",
       "    </tr>\n",
       "  </tbody>\n",
       "</table>\n",
       "</div>"
      ],
      "text/plain": [
       "   CRIM   ZN  INDUS  CHAS  NOX    RM  AGE    DIS  RAD   TAX  PTRATIO  LSTAT  \\\n",
       "0   632  180    231     0  538  6575  652    409   10  2960      153    498   \n",
       "1  2731    0    707     0  469  6421  789  49671   20  2420      178    914   \n",
       "2  2729    0    707     0  469  7185  611  49671   20  2420      178    403   \n",
       "3  3237    0    218     0  458  6998  458  60622   30  2220      187    294   \n",
       "4  6905    0    218     0  458  7147  542  60622   30  2220      187    533   \n",
       "\n",
       "   target  \n",
       "0     240  \n",
       "1     216  \n",
       "2     347  \n",
       "3     334  \n",
       "4     362  "
      ]
     },
     "execution_count": 2,
     "metadata": {},
     "output_type": "execute_result"
    }
   ],
   "source": [
    "# leemos los datos del archivo csv\n",
    "\n",
    "df= pd.read_csv('datos/bostonData.csv',sep=';')\n",
    "\n",
    "# Se visualizacion las 5 primeras filas.\n",
    "df.head()"
   ]
  },
  {
   "cell_type": "markdown",
   "metadata": {},
   "source": [
    "Los atributos de los datos en la tabla son los siguientes:\n",
    "\n",
    "- CRIM - tasa de criminalidad per cápita por ciudad.\n",
    "- ZN - proporción de terreno residencial zonificado para lotes de más de 25,000 pies cuadrados.\n",
    "- INDUS - proporción de acres comerciales no minoristas por ciudad.\n",
    "- CHAS: variable ficticia del río Charles (1 si el tramo limita con el río; 0 en caso contrario)\n",
    "- NOX - concentración de óxidos nítricos (partes por 10 millones)\n",
    "- RM - número promedio de cuartos por vivienda\n",
    "- AGE - proporción de unidades ocupadas por propietarios construidas antes de 1940\n",
    "- DIS: distancias ponderadas a cinco centros de empleo de Boston\n",
    "- RAD - índice de accesibilidad a las carreteras radiales\n",
    "- TAX: tasa de impuestos sobre la propiedad de valor total por cada 10,000 dolares\n",
    "- PTRATIO - ratio alumno-profesor por localidad\n",
    "- LSTAT - % estado más bajo de la población\n",
    "- target: valor medio de las viviendas ocupadas por sus propietarios en miles de dólares\n"
   ]
  },
  {
   "cell_type": "code",
   "execution_count": 3,
   "metadata": {
    "tags": []
   },
   "outputs": [
    {
     "data": {
      "text/plain": [
       "(506, 13)"
      ]
     },
     "execution_count": 3,
     "metadata": {},
     "output_type": "execute_result"
    }
   ],
   "source": [
    "# 1. Imprimir el tamaño del conjunto de datos (shape)\n",
    "df.shape"
   ]
  },
  {
   "cell_type": "markdown",
   "metadata": {},
   "source": [
    "## Visualización y análisis de los datos"
   ]
  },
  {
   "cell_type": "code",
   "execution_count": 4,
   "metadata": {},
   "outputs": [
    {
     "data": {
      "text/html": [
       "<div>\n",
       "<style scoped>\n",
       "    .dataframe tbody tr th:only-of-type {\n",
       "        vertical-align: middle;\n",
       "    }\n",
       "\n",
       "    .dataframe tbody tr th {\n",
       "        vertical-align: top;\n",
       "    }\n",
       "\n",
       "    .dataframe thead th {\n",
       "        text-align: right;\n",
       "    }\n",
       "</style>\n",
       "<table border=\"1\" class=\"dataframe\">\n",
       "  <thead>\n",
       "    <tr style=\"text-align: right;\">\n",
       "      <th></th>\n",
       "      <th>CRIM</th>\n",
       "      <th>ZN</th>\n",
       "      <th>INDUS</th>\n",
       "      <th>CHAS</th>\n",
       "      <th>NOX</th>\n",
       "      <th>RM</th>\n",
       "      <th>AGE</th>\n",
       "      <th>DIS</th>\n",
       "      <th>RAD</th>\n",
       "      <th>TAX</th>\n",
       "      <th>PTRATIO</th>\n",
       "      <th>LSTAT</th>\n",
       "      <th>target</th>\n",
       "    </tr>\n",
       "  </thead>\n",
       "  <tbody>\n",
       "    <tr>\n",
       "      <th>CRIM</th>\n",
       "      <td>1.000000</td>\n",
       "      <td>-0.275084</td>\n",
       "      <td>-0.255484</td>\n",
       "      <td>0.036457</td>\n",
       "      <td>-0.024580</td>\n",
       "      <td>-0.020357</td>\n",
       "      <td>0.425480</td>\n",
       "      <td>-0.349564</td>\n",
       "      <td>0.759367</td>\n",
       "      <td>0.718401</td>\n",
       "      <td>0.334202</td>\n",
       "      <td>0.322543</td>\n",
       "      <td>-0.320111</td>\n",
       "    </tr>\n",
       "    <tr>\n",
       "      <th>ZN</th>\n",
       "      <td>-0.275084</td>\n",
       "      <td>1.000000</td>\n",
       "      <td>-0.219946</td>\n",
       "      <td>-0.042697</td>\n",
       "      <td>0.076246</td>\n",
       "      <td>0.101617</td>\n",
       "      <td>-0.569537</td>\n",
       "      <td>0.491386</td>\n",
       "      <td>-0.311948</td>\n",
       "      <td>-0.314563</td>\n",
       "      <td>-0.391679</td>\n",
       "      <td>-0.356298</td>\n",
       "      <td>0.360445</td>\n",
       "    </tr>\n",
       "    <tr>\n",
       "      <th>INDUS</th>\n",
       "      <td>-0.255484</td>\n",
       "      <td>-0.219946</td>\n",
       "      <td>1.000000</td>\n",
       "      <td>0.073722</td>\n",
       "      <td>0.039306</td>\n",
       "      <td>-0.064913</td>\n",
       "      <td>0.183645</td>\n",
       "      <td>-0.156631</td>\n",
       "      <td>-0.438973</td>\n",
       "      <td>-0.206302</td>\n",
       "      <td>-0.110691</td>\n",
       "      <td>0.089826</td>\n",
       "      <td>-0.104059</td>\n",
       "    </tr>\n",
       "    <tr>\n",
       "      <th>CHAS</th>\n",
       "      <td>0.036457</td>\n",
       "      <td>-0.042697</td>\n",
       "      <td>0.073722</td>\n",
       "      <td>1.000000</td>\n",
       "      <td>0.018540</td>\n",
       "      <td>0.018436</td>\n",
       "      <td>0.086518</td>\n",
       "      <td>-0.110602</td>\n",
       "      <td>-0.007368</td>\n",
       "      <td>-0.035587</td>\n",
       "      <td>-0.121515</td>\n",
       "      <td>-0.040149</td>\n",
       "      <td>0.175260</td>\n",
       "    </tr>\n",
       "    <tr>\n",
       "      <th>NOX</th>\n",
       "      <td>-0.024580</td>\n",
       "      <td>0.076246</td>\n",
       "      <td>0.039306</td>\n",
       "      <td>0.018540</td>\n",
       "      <td>1.000000</td>\n",
       "      <td>0.036744</td>\n",
       "      <td>-0.040030</td>\n",
       "      <td>-0.008802</td>\n",
       "      <td>-0.070846</td>\n",
       "      <td>-0.099637</td>\n",
       "      <td>-0.182852</td>\n",
       "      <td>-0.058503</td>\n",
       "      <td>0.170189</td>\n",
       "    </tr>\n",
       "    <tr>\n",
       "      <th>RM</th>\n",
       "      <td>-0.020357</td>\n",
       "      <td>0.101617</td>\n",
       "      <td>-0.064913</td>\n",
       "      <td>0.018436</td>\n",
       "      <td>0.036744</td>\n",
       "      <td>1.000000</td>\n",
       "      <td>-0.044445</td>\n",
       "      <td>0.078149</td>\n",
       "      <td>-0.013040</td>\n",
       "      <td>-0.025271</td>\n",
       "      <td>-0.062559</td>\n",
       "      <td>-0.125440</td>\n",
       "      <td>0.187720</td>\n",
       "    </tr>\n",
       "    <tr>\n",
       "      <th>AGE</th>\n",
       "      <td>0.425480</td>\n",
       "      <td>-0.569537</td>\n",
       "      <td>0.183645</td>\n",
       "      <td>0.086518</td>\n",
       "      <td>-0.040030</td>\n",
       "      <td>-0.044445</td>\n",
       "      <td>1.000000</td>\n",
       "      <td>-0.639236</td>\n",
       "      <td>0.456022</td>\n",
       "      <td>0.506456</td>\n",
       "      <td>0.261515</td>\n",
       "      <td>0.513484</td>\n",
       "      <td>-0.376955</td>\n",
       "    </tr>\n",
       "    <tr>\n",
       "      <th>DIS</th>\n",
       "      <td>-0.349564</td>\n",
       "      <td>0.491386</td>\n",
       "      <td>-0.156631</td>\n",
       "      <td>-0.110602</td>\n",
       "      <td>-0.008802</td>\n",
       "      <td>0.078149</td>\n",
       "      <td>-0.639236</td>\n",
       "      <td>1.000000</td>\n",
       "      <td>-0.374222</td>\n",
       "      <td>-0.405540</td>\n",
       "      <td>-0.134127</td>\n",
       "      <td>-0.381643</td>\n",
       "      <td>0.177004</td>\n",
       "    </tr>\n",
       "    <tr>\n",
       "      <th>RAD</th>\n",
       "      <td>0.759367</td>\n",
       "      <td>-0.311948</td>\n",
       "      <td>-0.438973</td>\n",
       "      <td>-0.007368</td>\n",
       "      <td>-0.070846</td>\n",
       "      <td>-0.013040</td>\n",
       "      <td>0.456022</td>\n",
       "      <td>-0.374222</td>\n",
       "      <td>1.000000</td>\n",
       "      <td>0.910228</td>\n",
       "      <td>0.464741</td>\n",
       "      <td>0.455967</td>\n",
       "      <td>-0.381626</td>\n",
       "    </tr>\n",
       "    <tr>\n",
       "      <th>TAX</th>\n",
       "      <td>0.718401</td>\n",
       "      <td>-0.314563</td>\n",
       "      <td>-0.206302</td>\n",
       "      <td>-0.035587</td>\n",
       "      <td>-0.099637</td>\n",
       "      <td>-0.025271</td>\n",
       "      <td>0.506456</td>\n",
       "      <td>-0.405540</td>\n",
       "      <td>0.910228</td>\n",
       "      <td>1.000000</td>\n",
       "      <td>0.460853</td>\n",
       "      <td>0.499664</td>\n",
       "      <td>-0.468536</td>\n",
       "    </tr>\n",
       "    <tr>\n",
       "      <th>PTRATIO</th>\n",
       "      <td>0.334202</td>\n",
       "      <td>-0.391679</td>\n",
       "      <td>-0.110691</td>\n",
       "      <td>-0.121515</td>\n",
       "      <td>-0.182852</td>\n",
       "      <td>-0.062559</td>\n",
       "      <td>0.261515</td>\n",
       "      <td>-0.134127</td>\n",
       "      <td>0.464741</td>\n",
       "      <td>0.460853</td>\n",
       "      <td>1.000000</td>\n",
       "      <td>0.334691</td>\n",
       "      <td>-0.507787</td>\n",
       "    </tr>\n",
       "    <tr>\n",
       "      <th>LSTAT</th>\n",
       "      <td>0.322543</td>\n",
       "      <td>-0.356298</td>\n",
       "      <td>0.089826</td>\n",
       "      <td>-0.040149</td>\n",
       "      <td>-0.058503</td>\n",
       "      <td>-0.125440</td>\n",
       "      <td>0.513484</td>\n",
       "      <td>-0.381643</td>\n",
       "      <td>0.455967</td>\n",
       "      <td>0.499664</td>\n",
       "      <td>0.334691</td>\n",
       "      <td>1.000000</td>\n",
       "      <td>-0.635239</td>\n",
       "    </tr>\n",
       "    <tr>\n",
       "      <th>target</th>\n",
       "      <td>-0.320111</td>\n",
       "      <td>0.360445</td>\n",
       "      <td>-0.104059</td>\n",
       "      <td>0.175260</td>\n",
       "      <td>0.170189</td>\n",
       "      <td>0.187720</td>\n",
       "      <td>-0.376955</td>\n",
       "      <td>0.177004</td>\n",
       "      <td>-0.381626</td>\n",
       "      <td>-0.468536</td>\n",
       "      <td>-0.507787</td>\n",
       "      <td>-0.635239</td>\n",
       "      <td>1.000000</td>\n",
       "    </tr>\n",
       "  </tbody>\n",
       "</table>\n",
       "</div>"
      ],
      "text/plain": [
       "             CRIM        ZN     INDUS      CHAS       NOX        RM       AGE  \\\n",
       "CRIM     1.000000 -0.275084 -0.255484  0.036457 -0.024580 -0.020357  0.425480   \n",
       "ZN      -0.275084  1.000000 -0.219946 -0.042697  0.076246  0.101617 -0.569537   \n",
       "INDUS   -0.255484 -0.219946  1.000000  0.073722  0.039306 -0.064913  0.183645   \n",
       "CHAS     0.036457 -0.042697  0.073722  1.000000  0.018540  0.018436  0.086518   \n",
       "NOX     -0.024580  0.076246  0.039306  0.018540  1.000000  0.036744 -0.040030   \n",
       "RM      -0.020357  0.101617 -0.064913  0.018436  0.036744  1.000000 -0.044445   \n",
       "AGE      0.425480 -0.569537  0.183645  0.086518 -0.040030 -0.044445  1.000000   \n",
       "DIS     -0.349564  0.491386 -0.156631 -0.110602 -0.008802  0.078149 -0.639236   \n",
       "RAD      0.759367 -0.311948 -0.438973 -0.007368 -0.070846 -0.013040  0.456022   \n",
       "TAX      0.718401 -0.314563 -0.206302 -0.035587 -0.099637 -0.025271  0.506456   \n",
       "PTRATIO  0.334202 -0.391679 -0.110691 -0.121515 -0.182852 -0.062559  0.261515   \n",
       "LSTAT    0.322543 -0.356298  0.089826 -0.040149 -0.058503 -0.125440  0.513484   \n",
       "target  -0.320111  0.360445 -0.104059  0.175260  0.170189  0.187720 -0.376955   \n",
       "\n",
       "              DIS       RAD       TAX   PTRATIO     LSTAT    target  \n",
       "CRIM    -0.349564  0.759367  0.718401  0.334202  0.322543 -0.320111  \n",
       "ZN       0.491386 -0.311948 -0.314563 -0.391679 -0.356298  0.360445  \n",
       "INDUS   -0.156631 -0.438973 -0.206302 -0.110691  0.089826 -0.104059  \n",
       "CHAS    -0.110602 -0.007368 -0.035587 -0.121515 -0.040149  0.175260  \n",
       "NOX     -0.008802 -0.070846 -0.099637 -0.182852 -0.058503  0.170189  \n",
       "RM       0.078149 -0.013040 -0.025271 -0.062559 -0.125440  0.187720  \n",
       "AGE     -0.639236  0.456022  0.506456  0.261515  0.513484 -0.376955  \n",
       "DIS      1.000000 -0.374222 -0.405540 -0.134127 -0.381643  0.177004  \n",
       "RAD     -0.374222  1.000000  0.910228  0.464741  0.455967 -0.381626  \n",
       "TAX     -0.405540  0.910228  1.000000  0.460853  0.499664 -0.468536  \n",
       "PTRATIO -0.134127  0.464741  0.460853  1.000000  0.334691 -0.507787  \n",
       "LSTAT   -0.381643  0.455967  0.499664  0.334691  1.000000 -0.635239  \n",
       "target   0.177004 -0.381626 -0.468536 -0.507787 -0.635239  1.000000  "
      ]
     },
     "execution_count": 4,
     "metadata": {},
     "output_type": "execute_result"
    }
   ],
   "source": [
    "# Imprimir la matriz de correlación\n",
    "\n",
    "# La matriz de correlación muestra la fuerza de la relación lineal entre dos varianles, varía entre -1 y 1\n",
    "# entre más lejos de cero, más fuerte la relación (directa o inversa )\n",
    "df.corr()"
   ]
  },
  {
   "cell_type": "code",
   "execution_count": 5,
   "metadata": {},
   "outputs": [
    {
     "data": {
      "text/plain": [
       "target     1.000000\n",
       "LSTAT      0.635239\n",
       "PTRATIO    0.507787\n",
       "TAX        0.468536\n",
       "RAD        0.381626\n",
       "AGE        0.376955\n",
       "ZN         0.360445\n",
       "CRIM       0.320111\n",
       "RM         0.187720\n",
       "DIS        0.177004\n",
       "CHAS       0.175260\n",
       "NOX        0.170189\n",
       "INDUS      0.104059\n",
       "Name: target, dtype: float64"
      ]
     },
     "execution_count": 5,
     "metadata": {},
     "output_type": "execute_result"
    }
   ],
   "source": [
    "# Seleccionemos solo la relación de las variables con la variable a predecir (target)\n",
    "\n",
    "df.corr()['target'].abs().sort_values(ascending=False)"
   ]
  },
  {
   "cell_type": "code",
   "execution_count": 30,
   "metadata": {
    "tags": []
   },
   "outputs": [
    {
     "data": {
      "text/plain": [
       "<AxesSubplot:xlabel='TAX', ylabel='target'>"
      ]
     },
     "execution_count": 30,
     "metadata": {},
     "output_type": "execute_result"
    },
    {
     "data": {
      "image/png": "[encoded data removed]",
      "text/plain": [
       "<Figure size 432x288 with 3 Axes>"
      ]
     },
     "metadata": {
      "needs_background": "light"
     },
     "output_type": "display_data"
    }
   ],
   "source": [
    "# 2. Graficar algunos de los atributos contra la variable objetivo (target) en diagramas de dispersión\n",
    "#    Al menos 3, buscar los que tienes mayor correlación según la tabla anterior.\n",
    "\n",
    "fig, axs=plt.subplots(1,3, sharey=True)\n",
    "df.plot(kind='scatter', x='LSTAT', y='target', ax=axs[0])\n",
    "df.plot(kind='scatter', x='PTRATIO', y='target', ax=axs[1])\n",
    "df.plot(kind='scatter', x='TAX', y='target', ax=axs[2])"
   ]
  },
  {
   "cell_type": "markdown",
   "metadata": {},
   "source": [
    "## Diseño de los modelos"
   ]
  },
  {
   "cell_type": "code",
   "execution_count": 31,
   "metadata": {},
   "outputs": [
    {
     "data": {
      "text/html": [
       "<div>\n",
       "<style scoped>\n",
       "    .dataframe tbody tr th:only-of-type {\n",
       "        vertical-align: middle;\n",
       "    }\n",
       "\n",
       "    .dataframe tbody tr th {\n",
       "        vertical-align: top;\n",
       "    }\n",
       "\n",
       "    .dataframe thead th {\n",
       "        text-align: right;\n",
       "    }\n",
       "</style>\n",
       "<table border=\"1\" class=\"dataframe\">\n",
       "  <thead>\n",
       "    <tr style=\"text-align: right;\">\n",
       "      <th></th>\n",
       "      <th>LSTAT</th>\n",
       "      <th>PTRATIO</th>\n",
       "      <th>TAX</th>\n",
       "      <th>LSTAT**grado</th>\n",
       "    </tr>\n",
       "  </thead>\n",
       "  <tbody>\n",
       "    <tr>\n",
       "      <th>0</th>\n",
       "      <td>498</td>\n",
       "      <td>153</td>\n",
       "      <td>2960</td>\n",
       "      <td>61505984016</td>\n",
       "    </tr>\n",
       "    <tr>\n",
       "      <th>1</th>\n",
       "      <td>914</td>\n",
       "      <td>178</td>\n",
       "      <td>2420</td>\n",
       "      <td>697886476816</td>\n",
       "    </tr>\n",
       "    <tr>\n",
       "      <th>2</th>\n",
       "      <td>403</td>\n",
       "      <td>178</td>\n",
       "      <td>2420</td>\n",
       "      <td>26376683281</td>\n",
       "    </tr>\n",
       "    <tr>\n",
       "      <th>3</th>\n",
       "      <td>294</td>\n",
       "      <td>187</td>\n",
       "      <td>2220</td>\n",
       "      <td>7471182096</td>\n",
       "    </tr>\n",
       "    <tr>\n",
       "      <th>4</th>\n",
       "      <td>533</td>\n",
       "      <td>187</td>\n",
       "      <td>2220</td>\n",
       "      <td>80706559921</td>\n",
       "    </tr>\n",
       "    <tr>\n",
       "      <th>...</th>\n",
       "      <td>...</td>\n",
       "      <td>...</td>\n",
       "      <td>...</td>\n",
       "      <td>...</td>\n",
       "    </tr>\n",
       "    <tr>\n",
       "      <th>501</th>\n",
       "      <td>967</td>\n",
       "      <td>210</td>\n",
       "      <td>2730</td>\n",
       "      <td>874391437921</td>\n",
       "    </tr>\n",
       "    <tr>\n",
       "      <th>502</th>\n",
       "      <td>908</td>\n",
       "      <td>210</td>\n",
       "      <td>2730</td>\n",
       "      <td>679740887296</td>\n",
       "    </tr>\n",
       "    <tr>\n",
       "      <th>503</th>\n",
       "      <td>564</td>\n",
       "      <td>210</td>\n",
       "      <td>2730</td>\n",
       "      <td>101185065216</td>\n",
       "    </tr>\n",
       "    <tr>\n",
       "      <th>504</th>\n",
       "      <td>648</td>\n",
       "      <td>210</td>\n",
       "      <td>2730</td>\n",
       "      <td>176319369216</td>\n",
       "    </tr>\n",
       "    <tr>\n",
       "      <th>505</th>\n",
       "      <td>788</td>\n",
       "      <td>210</td>\n",
       "      <td>2730</td>\n",
       "      <td>385571451136</td>\n",
       "    </tr>\n",
       "  </tbody>\n",
       "</table>\n",
       "<p>506 rows × 4 columns</p>\n",
       "</div>"
      ],
      "text/plain": [
       "     LSTAT  PTRATIO   TAX  LSTAT**grado\n",
       "0      498      153  2960   61505984016\n",
       "1      914      178  2420  697886476816\n",
       "2      403      178  2420   26376683281\n",
       "3      294      187  2220    7471182096\n",
       "4      533      187  2220   80706559921\n",
       "..     ...      ...   ...           ...\n",
       "501    967      210  2730  874391437921\n",
       "502    908      210  2730  679740887296\n",
       "503    564      210  2730  101185065216\n",
       "504    648      210  2730  176319369216\n",
       "505    788      210  2730  385571451136\n",
       "\n",
       "[506 rows x 4 columns]"
      ]
     },
     "execution_count": 31,
     "metadata": {},
     "output_type": "execute_result"
    }
   ],
   "source": [
    "# 3. Crear una lista especial con cuatro atributos con fuerte correlación con la variable a predecir\n",
    "\n",
    "df[df.corr()['target'].abs().nlargest(5).index.tolist()[1:]]\n"
   ]
  },
  {
   "cell_type": "code",
   "execution_count": 32,
   "metadata": {},
   "outputs": [],
   "source": [
    "# 4. Crear conjunto entranemiento/prueba con la seleccion de los atributos anteriores del dataframe principal\n",
    "\n",
    "from sklearn.model_selection import train_test_split\n",
    "\n",
    "x=df[df.corr()['target'].abs().nlargest(5).index.tolist()[1:]]\n",
    "y=df[\"target\"]\n",
    "x_entrenamiento, x_prueba, y_entrenamiento, y_prueba = train_test_split(x, y, random_state=0,test_size=0.3)"
   ]
  },
  {
   "cell_type": "code",
   "execution_count": 33,
   "metadata": {
    "tags": []
   },
   "outputs": [],
   "source": [
    "# 5. Crear conjunto entranemiento/prueba con todos los atributos del dataframe principal\n",
    "\n",
    "from sklearn.model_selection import train_test_split\n",
    "x=df[df.corr()['target'].abs().nlargest(13).index.tolist()[1:]]\n",
    "y=df[\"target\"]\n",
    "x_entrenamientoUno, x_pruebaUno, y_entrenamientoUno, y_pruebaUno = train_test_split(x, y, random_state=0,test_size=0.3)"
   ]
  },
  {
   "cell_type": "code",
   "execution_count": 34,
   "metadata": {},
   "outputs": [],
   "source": [
    "# 6. Crear un conjunto entrenamiento/prueba con un solo atributo. Seleccione el que considere mejor predictor\n",
    "x=df[[\"LSTAT\"]]\n",
    "y=df[\"target\"]\n",
    "x_entrenamientoDos, x_pruebaDos, y_entrenamientoDos, y_pruebaDos = train_test_split(x, y, random_state=0)\n",
    "\n"
   ]
  },
  {
   "cell_type": "code",
   "execution_count": 35,
   "metadata": {
    "tags": []
   },
   "outputs": [],
   "source": [
    "## 7. Crear tres modelos de regresión para cada conjunto entrenamiento/prueba de los puntos 3. 4 y 5 anteriores.\n",
    "\n",
    "from sklearn.linear_model import LinearRegression\n",
    "reg = LinearRegression().fit(x_entrenamiento, y_entrenamiento)\n",
    "regUno=LinearRegression().fit(x_entrenamientoUno, y_entrenamientoUno)\n",
    "regDos=LinearRegression().fit(x_entrenamientoDos, y_entrenamientoDos)\n",
    "\n"
   ]
  },
  {
   "cell_type": "code",
   "execution_count": 36,
   "metadata": {},
   "outputs": [
    {
     "name": "stdout",
     "output_type": "stream",
     "text": [
      "Intercepto:  582.2022292596084\n",
      "Coeficiente:  [-6.47613021e-02 -1.43579614e+00 -5.19036812e-03  4.76577827e-13]\n",
      "Intercepto:  555.2692221126523\n",
      "Coeficiente:  [-6.12580822e-02 -1.15917217e+00 -1.86270071e-02  4.21982451e-13\n",
      "  3.25905355e-01 -2.51102785e-02  3.81999536e-02 -2.32421989e-05\n",
      "  4.04297671e-03 -6.59224969e-04  3.95482572e+00  1.40535264e-02]\n",
      "Intercepto:  314.17242077780145\n",
      "Coeficiente:  [-0.0770238]\n"
     ]
    }
   ],
   "source": [
    "# 8. imprimir intercepto y coeficientes de cada unos de los modelos\n",
    "\n",
    "print(\"Intercepto: \",reg.intercept_)\n",
    "print(\"Coeficiente: \",reg.coef_)\n",
    "print(\"Intercepto: \",regUno.intercept_)\n",
    "print(\"Coeficiente: \",regUno.coef_)\n",
    "print(\"Intercepto: \",regDos.intercept_)\n",
    "print(\"Coeficiente: \",regDos.coef_)\n"
   ]
  },
  {
   "cell_type": "markdown",
   "metadata": {},
   "source": [
    "## Evaluación de los modelos"
   ]
  },
  {
   "cell_type": "code",
   "execution_count": 37,
   "metadata": {},
   "outputs": [],
   "source": [
    "#  9. Para evaluar los modelos creados, calcular el coeficiente de determinación (score), \n",
    "#     las sumas residuales, el error cuadrático medio y la raiz del error cuadrático medio.\n",
    "\n",
    "# Utiliza la función que calcula las diferencias residuales.\n",
    "def obtener_RSS(modelo, datos, salida):\n",
    "    # Primero obtener las predicciones\n",
    "    predicciones = modelo.predict(datos)\n",
    "    # Calcular los residuales \n",
    "    residuales = salida - predicciones\n",
    "    # Elevarlos al cuadrado y sumarlos\n",
    "    RSS = (residuales * residuales).sum()\n",
    "    return(RSS) \n"
   ]
  },
  {
   "cell_type": "code",
   "execution_count": 38,
   "metadata": {},
   "outputs": [
    {
     "name": "stdout",
     "output_type": "stream",
     "text": [
      "coeficiente de determinacion: 0.43691311484285855\n",
      "712662.8218251619\n",
      "4688.57119621817\n",
      "68.47314215236635\n"
     ]
    }
   ],
   "source": [
    "# Evaluacion modelo 1 \n",
    "print(\"coeficiente de determinacion:\",reg.score(x_prueba,y_prueba))\n",
    "RSS = obtener_RSS(reg, x_prueba, y_prueba)\n",
    "print(RSS)\n",
    "MSE = RSS/(len(y_prueba))\n",
    "print(MSE)\n",
    "RMSE =sqrt(MSE)\n",
    "print(RMSE)"
   ]
  },
  {
   "cell_type": "code",
   "execution_count": 39,
   "metadata": {},
   "outputs": [
    {
     "name": "stdout",
     "output_type": "stream",
     "text": [
      "coeficiente de determinacion: 0.5083562923915559\n",
      "622241.7911563304\n",
      "4093.695994449542\n",
      "63.98199742466268\n"
     ]
    }
   ],
   "source": [
    "# Evaluacion modelo 2\n",
    "print(\"coeficiente de determinacion:\",regUno.score(x_pruebaUno,y_pruebaUno))\n",
    "RSS = obtener_RSS(regUno, x_pruebaUno, y_pruebaUno)\n",
    "print(RSS)\n",
    "MSE = RSS/(len(y_pruebaUno))\n",
    "print(MSE)\n",
    "RMSE =sqrt(MSE)\n",
    "print(RMSE)"
   ]
  },
  {
   "cell_type": "code",
   "execution_count": 40,
   "metadata": {},
   "outputs": [
    {
     "name": "stdout",
     "output_type": "stream",
     "text": [
      "coeficiente de determinacion: 0.3328207965940464\n",
      "692250.1272952511\n",
      "5450.788403899615\n",
      "73.82945485305723\n"
     ]
    }
   ],
   "source": [
    "# Evaluacion modelo 3\n",
    "print(\"coeficiente de determinacion:\",regDos.score(x_pruebaDos,y_pruebaDos))\n",
    "RSS = obtener_RSS(regDos, x_pruebaDos, y_pruebaDos)\n",
    "print(RSS)\n",
    "MSE = RSS/(len(y_pruebaDos))\n",
    "print(MSE)\n",
    "RMSE =sqrt(MSE)\n",
    "print(RMSE)"
   ]
  },
  {
   "cell_type": "markdown",
   "metadata": {
    "collapsed": true,
    "jupyter": {
     "outputs_hidden": true
    }
   },
   "source": [
    "### Refinamiento del modelo\n"
   ]
  },
  {
   "cell_type": "markdown",
   "metadata": {},
   "source": [
    "#### Con el atributo seleccionado en el punto 6, realizar regresion polinomial con grados = 2,4,8 y 16. \n",
    "#### Entrenar y evaluar los modelos para cada uno de los grados del polinomio"
   ]
  },
  {
   "cell_type": "code",
   "execution_count": 42,
   "metadata": {},
   "outputs": [],
   "source": [
    "def polinomial_dataframe(atributo, grado):\n",
    "    # asumir que grado es >= 1\n",
    "    # inicializar el DataFrame:\n",
    "    poli_dataframe = pd.DataFrame()\n",
    "    # fijar poli_dataframe['potencia_1'] igual al atributo pasado\n",
    "    poli_dataframe['potencia_1'] = atributo\n",
    "    # chequear si grado > 1\n",
    "    if grado > 1:\n",
    "        # realizar un lazo con los grados restantes:\n",
    "        for potencia in range(2, grado+1): \n",
    "            # primero le damos el nombre a la columna:\n",
    "            nombre = 'potencia_' + str(potencia)\n",
    "            # luego asignamos a poli_dataframe[nombre] la potencia del atributo apropiada\n",
    "            poli_dataframe[nombre] = atributo**potencia\n",
    "    return poli_dataframe"
   ]
  },
  {
   "cell_type": "code",
   "execution_count": 43,
   "metadata": {},
   "outputs": [
    {
     "name": "stdout",
     "output_type": "stream",
     "text": [
      "Intercepto:  326.2120465591495\n",
      "RSS:  684976.6684157321\n",
      "MSE: 5393.517074139623\n",
      "RMSE: 73.44056831302181\n",
      "coeficiente de determinacion: 0.33983083575460804\n",
      "Coeficiente:  [-1.02423144e-01  8.85709023e-06]\n"
     ]
    }
   ],
   "source": [
    "def regresion_polinomial(data, data1,grado):\n",
    "    poli_data_X = polinomial_dataframe(data, grado)\n",
    "    modelo = LinearRegression()\n",
    "    modelo.fit(poli_data_X, data1)\n",
    "    return modelo\n",
    "\n",
    "regP=regresion_polinomial(x_entrenamientoDos, y_entrenamientoDos,2)\n",
    "print(\"Intercepto: \",regP.intercept_)\n",
    "poli_prueba_X = polinomial_dataframe(x_pruebaDos, 2)\n",
    "RSS = obtener_RSS(regP, poli_prueba_X, y_pruebaDos)\n",
    "print(\"RSS: \",RSS)\n",
    "MSE = RSS/(len(y_pruebaDos))\n",
    "print(\"MSE:\",MSE)\n",
    "RMSE =sqrt(MSE)\n",
    "print(\"RMSE:\",RMSE)\n",
    "print(\"coeficiente de determinacion:\",regP.score(poli_prueba_X,y_pruebaDos))\n",
    "print(\"Coeficiente: \",regP.coef_)"
   ]
  },
  {
   "cell_type": "code",
   "execution_count": 44,
   "metadata": {},
   "outputs": [
    {
     "name": "stdout",
     "output_type": "stream",
     "text": [
      "Intercepto:  252.19296193354901\n",
      "RSS:  659398.3974154082\n",
      "MSE: 5192.113365475655\n",
      "RMSE: 72.05632078780914\n",
      "coeficiente de determinacion: 0.36448274956092963\n",
      "Coeficiente:  [ 2.62935895e-01 -4.19404850e-04  1.74440678e-07 -2.27261077e-11]\n",
      "\n",
      "\n",
      "Con grado 6: \n",
      "Intercepto:  298.66151426203237\n",
      "RSS:  677297.8556072466\n",
      "MSE: 5333.053981159423\n",
      "RMSE: 73.02776171538754\n",
      "coeficiente de determinacion: 0.34723154831595604\n",
      "Coeficiente:  [-4.31837609e-08 -2.37530201e-05 -6.34077962e-08  3.88033434e-11\n",
      " -5.70485749e-15 -1.60696219e-19]\n",
      "\n",
      "\n",
      "Con grado 8: \n",
      "Intercepto:  298.3764788388769\n",
      "RSS:  677973.0397978954\n",
      "MSE: 5338.370392109412\n",
      "RMSE: 73.06415257915069\n",
      "coeficiente de determinacion: 0.3465808169795396\n",
      "Coeficiente:  [-4.43716016e-08 -2.43766586e-05 -6.21297588e-08  3.81926201e-11\n",
      " -5.61900482e-15 -1.49402053e-19  4.91066849e-19  6.82427073e-20]\n",
      "\n",
      "\n",
      "Con grado 16: \n",
      "Intercepto:  296.11599463510356\n",
      "RSS:  690882.7100699067\n",
      "MSE: 5440.021339133124\n",
      "RMSE: 73.75650031782368\n",
      "coeficiente de determinacion: 0.33413869066030466\n",
      "Coeficiente:  [-2.35741367e-08 -1.29215754e-05 -7.42501115e-08  4.26505442e-11\n",
      " -6.17644209e-15 -2.85911758e-19  7.94390848e-19  2.22907253e-19\n",
      "  6.78187093e-19  1.46968769e-18 -3.94545783e-19 -8.67046429e-20\n",
      "  3.56498986e-19 -2.85679413e-19 -1.30091464e-18 -8.28318912e-19]\n"
     ]
    }
   ],
   "source": [
    "regP4=regresion_polinomial(x_entrenamientoDos, y_entrenamientoDos,4)\n",
    "print(\"Intercepto: \",regP4.intercept_)\n",
    "poli_prueba_X = polinomial_dataframe(x_pruebaDos, 4)\n",
    "RSS = obtener_RSS(regP4, poli_prueba_X, y_pruebaDos)\n",
    "print(\"RSS: \",RSS)\n",
    "MSE = RSS/(len(y_pruebaDos))\n",
    "print(\"MSE:\",MSE)\n",
    "RMSE =sqrt(MSE)\n",
    "print(\"RMSE:\",RMSE)\n",
    "print(\"coeficiente de determinacion:\",regP4.score(poli_prueba_X,y_pruebaDos))\n",
    "print(\"Coeficiente: \",regP4.coef_)\n",
    "print(\"\\n\")\n",
    "print(\"Con grado 6: \")\n",
    "regP6=regresion_polinomial(x_entrenamientoDos, y_entrenamientoDos,6)\n",
    "print(\"Intercepto: \",regP6.intercept_)\n",
    "poli_prueba_X = polinomial_dataframe(x_pruebaDos, 6)\n",
    "RSS = obtener_RSS(regP6, poli_prueba_X, y_pruebaDos)\n",
    "print(\"RSS: \",RSS)\n",
    "MSE = RSS/(len(y_pruebaDos))\n",
    "print(\"MSE:\",MSE)\n",
    "RMSE =sqrt(MSE)\n",
    "print(\"RMSE:\",RMSE)\n",
    "print(\"coeficiente de determinacion:\",regP6.score(poli_prueba_X,y_pruebaDos))\n",
    "print(\"Coeficiente: \",regP6.coef_)\n",
    "print(\"\\n\")\n",
    "print(\"Con grado 8: \")\n",
    "regP8=regresion_polinomial(x_entrenamientoDos, y_entrenamientoDos,8)\n",
    "print(\"Intercepto: \",regP8.intercept_)\n",
    "poli_prueba_X = polinomial_dataframe(x_pruebaDos, 8)\n",
    "RSS = obtener_RSS(regP8, poli_prueba_X, y_pruebaDos)\n",
    "print(\"RSS: \",RSS)\n",
    "MSE = RSS/(len(y_pruebaDos))\n",
    "print(\"MSE:\",MSE)\n",
    "RMSE =sqrt(MSE)\n",
    "print(\"RMSE:\",RMSE)\n",
    "print(\"coeficiente de determinacion:\",regP8.score(poli_prueba_X,y_pruebaDos))\n",
    "print(\"Coeficiente: \",regP8.coef_)\n",
    "print(\"\\n\")\n",
    "print(\"Con grado 16: \")\n",
    "regP16=regresion_polinomial(x_entrenamientoDos, y_entrenamientoDos,16)\n",
    "print(\"Intercepto: \",regP16.intercept_)\n",
    "poli_prueba_X = polinomial_dataframe(x_pruebaDos, 16)\n",
    "RSS = obtener_RSS(regP16, poli_prueba_X, y_pruebaDos)\n",
    "print(\"RSS: \",RSS)\n",
    "MSE = RSS/(len(y_pruebaDos))\n",
    "print(\"MSE:\",MSE)\n",
    "RMSE =sqrt(MSE)\n",
    "print(\"RMSE:\",RMSE)\n",
    "print(\"coeficiente de determinacion:\",regP16.score(poli_prueba_X,y_pruebaDos))\n",
    "print(\"Coeficiente: \",regP16.coef_)\n"
   ]
  },
  {
   "cell_type": "code",
   "execution_count": 45,
   "metadata": {},
   "outputs": [
    {
     "name": "stdout",
     "output_type": "stream",
     "text": [
      "Intercepto:  612.9969005061321\n",
      "RSS:  623585.678694194\n",
      "MSE: 4910.123454284992\n",
      "RMSE: 70.07227307776587\n",
      "coeficiente de determinacion: 0.3989984545151165\n",
      "Coeficiente:  [ 4.65706163e-13 -6.60113280e-02 -1.43641833e+00 -1.95054287e-02\n",
      "  3.02833293e-01]\n"
     ]
    }
   ],
   "source": [
    "# Inlcuir en la lista de mejores atributos (modelo punto 3) la potencia que obtuvo mejores resultados \n",
    "#     en el punto anterior, reformular el modelo y evaluar.\n",
    "\n",
    "df['LSTAT**grado'] = df['LSTAT'].apply(lambda x: x**4)\n",
    "lista=df.corr()['target'].abs().nlargest(5).index.tolist()[1:]\n",
    "atributos_cols = ['LSTAT**grado', 'LSTAT','PTRATIO', 'TAX', 'RAD']\n",
    "x=df[atributos_cols]\n",
    "y=df.target\n",
    "x_entrenamientoCuatro, x_pruebaCuatro, y_entrenamientoCuatro, y_pruebaCuatro = train_test_split(\n",
    "    x, y, random_state=0)\n",
    "\n",
    "RegPot=LinearRegression().fit(x_entrenamientoCuatro, y_entrenamientoCuatro)\n",
    "print(\"Intercepto: \",RegPot.intercept_)\n",
    "RSS = obtener_RSS(RegPot,x_pruebaCuatro, y_pruebaCuatro)\n",
    "print(\"RSS: \",RSS)\n",
    "MSE = RSS/(len(y_pruebaCuatro))\n",
    "print(\"MSE:\",MSE)\n",
    "RMSE =sqrt(MSE)\n",
    "print(\"RMSE:\",RMSE)\n",
    "print(\"coeficiente de determinacion:\",RegPot.score(x_pruebaCuatro,y_pruebaCuatro))\n",
    "print(\"Coeficiente: \",RegPot.coef_)"
   ]
  },
  {
   "cell_type": "markdown",
   "metadata": {},
   "source": [
    "### Conclusiones"
   ]
  },
  {
   "cell_type": "code",
   "execution_count": null,
   "metadata": {
    "tags": []
   },
   "outputs": [],
   "source": [
    "#El modelo de regresión polinomial de grado 4 obtuvo el mejor score.\n",
    "#Los atributos PTRATIO, LSTAT, TAX y RAD tienen correlaciones significativas con el valor \n",
    "#medio de las viviendas, con RAD siendo el más influyente. \n",
    "#En base a los datos analizados, el modelo de regresión polinomial obtuvo mejores resultados \n",
    "#que el modelo de regresión lineal en el problema de predicción del valor medio de las viviendas ocupadas. \n",
    "#se puede concluir que el uso de un modelo de regresión polinomial es más adecuado para \n",
    "#este problema que un modelo de regresión lineal."
   ]
  }
 ],
 "metadata": {
  "anaconda-cloud": {},
  "kernelspec": {
   "display_name": "Python 3 (ipykernel)",
   "language": "python",
   "name": "python3"
  },
  "language_info": {
   "codemirror_mode": {
    "name": "ipython",
    "version": 3
   },
   "file_extension": ".py",
   "mimetype": "text/x-python",
   "name": "python",
   "nbconvert_exporter": "python",
   "pygments_lexer": "ipython3",
   "version": "3.11.4"
  }
 },
 "nbformat": 4,
 "nbformat_minor": 4
}
